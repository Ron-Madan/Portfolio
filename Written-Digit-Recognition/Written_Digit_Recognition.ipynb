{
  "nbformat": 4,
  "nbformat_minor": 0,
  "metadata": {
    "colab": {
      "name": "Written Digit Recognition.ipynb",
      "provenance": [],
      "collapsed_sections": [],
      "toc_visible": true
    },
    "kernelspec": {
      "name": "python3",
      "display_name": "Python 3"
    },
    "language_info": {
      "name": "python"
    }
  },
  "cells": [
    {
      "cell_type": "markdown",
      "metadata": {
        "id": "FbSqPy3sDiv-"
      },
      "source": [
        "##Importing Libraries"
      ]
    },
    {
      "cell_type": "code",
      "metadata": {
        "colab": {
          "base_uri": "https://localhost:8080/"
        },
        "id": "cwE1G5FtDnws",
        "outputId": "6969c5d9-0377-4bc8-a78a-95bb807552a6"
      },
      "source": [
        "# TensorFlow and tf.keras\n",
        "import tensorflow as tf\n",
        "\n",
        "# Helper libraries\n",
        "import numpy as np\n",
        "import matplotlib.pyplot as plt\n",
        "\n",
        "print(tf.__version__)"
      ],
      "execution_count": 7,
      "outputs": [
        {
          "output_type": "stream",
          "name": "stdout",
          "text": [
            "2.6.0\n"
          ]
        }
      ]
    },
    {
      "cell_type": "markdown",
      "metadata": {
        "id": "312vxpf9Dqan"
      },
      "source": [
        "##Importing the Handwritten Digit MNIST Dataset"
      ]
    },
    {
      "cell_type": "code",
      "metadata": {
        "id": "yfB36W8UDyFp"
      },
      "source": [
        "numbers_mnist = tf.keras.datasets.mnist\n",
        "\n",
        "(train_images, train_labels), (test_images, test_labels) = numbers_mnist.load_data()"
      ],
      "execution_count": 8,
      "outputs": []
    },
    {
      "cell_type": "markdown",
      "metadata": {
        "id": "639diNRcD3fB"
      },
      "source": [
        "##Exploring the Data"
      ]
    },
    {
      "cell_type": "code",
      "metadata": {
        "colab": {
          "base_uri": "https://localhost:8080/"
        },
        "id": "6bD3nAJnD5RP",
        "outputId": "805151a2-2b05-494f-da10-b795989daa75"
      },
      "source": [
        "train_images.shape"
      ],
      "execution_count": 9,
      "outputs": [
        {
          "output_type": "execute_result",
          "data": {
            "text/plain": [
              "(60000, 28, 28)"
            ]
          },
          "metadata": {},
          "execution_count": 9
        }
      ]
    },
    {
      "cell_type": "code",
      "metadata": {
        "colab": {
          "base_uri": "https://localhost:8080/"
        },
        "id": "2zzuPYeUQV0J",
        "outputId": "1d7ab57e-8db6-478c-9988-88e7d0a6611e"
      },
      "source": [
        "test_images.shape"
      ],
      "execution_count": 10,
      "outputs": [
        {
          "output_type": "execute_result",
          "data": {
            "text/plain": [
              "(10000, 28, 28)"
            ]
          },
          "metadata": {},
          "execution_count": 10
        }
      ]
    },
    {
      "cell_type": "code",
      "metadata": {
        "colab": {
          "base_uri": "https://localhost:8080/",
          "height": 265
        },
        "id": "uy7jkJuaD6V8",
        "outputId": "232e216b-9735-40f3-e186-39628b7ead2e"
      },
      "source": [
        "plt.figure()\n",
        "plt.imshow(train_images[7])\n",
        "plt.colorbar()\n",
        "plt.grid(False)\n",
        "plt.show()"
      ],
      "execution_count": 11,
      "outputs": [
        {
          "output_type": "display_data",
          "data": {
            "image/png": "[encoded data removed]",
            "text/plain": [
              "<Figure size 432x288 with 2 Axes>"
            ]
          },
          "metadata": {
            "needs_background": "light"
          }
        }
      ]
    },
    {
      "cell_type": "markdown",
      "metadata": {
        "id": "wnPhl6KAD_Mh"
      },
      "source": [
        "##Scaling the Data from 0 to 1"
      ]
    },
    {
      "cell_type": "code",
      "metadata": {
        "id": "YyzT0AHYD-BA"
      },
      "source": [
        "train_images = train_images / 255.0\n",
        "\n",
        "test_images = test_images / 255.0"
      ],
      "execution_count": 12,
      "outputs": []
    },
    {
      "cell_type": "code",
      "metadata": {
        "colab": {
          "base_uri": "https://localhost:8080/"
        },
        "id": "ms4MxYqOECwz",
        "outputId": "a4af7c15-0804-476a-a5ef-6adb223ddf7f"
      },
      "source": [
        "train_images[7][14]"
      ],
      "execution_count": 13,
      "outputs": [
        {
          "output_type": "execute_result",
          "data": {
            "text/plain": [
              "array([0.        , 0.        , 0.        , 0.        , 0.        ,\n",
              "       0.        , 0.        , 0.        , 0.17647059, 0.87058824,\n",
              "       0.98823529, 0.98823529, 0.98823529, 0.98823529, 0.99215686,\n",
              "       0.98823529, 0.98823529, 0.98823529, 0.69411765, 0.        ,\n",
              "       0.        , 0.        , 0.        , 0.        , 0.        ,\n",
              "       0.        , 0.        , 0.        ])"
            ]
          },
          "metadata": {},
          "execution_count": 13
        }
      ]
    },
    {
      "cell_type": "markdown",
      "metadata": {
        "id": "4xAsjID5EE-i"
      },
      "source": [
        "##Viewing Dataset Images"
      ]
    },
    {
      "cell_type": "code",
      "metadata": {
        "colab": {
          "base_uri": "https://localhost:8080/",
          "height": 589
        },
        "id": "HjEt6wZgEHW4",
        "outputId": "8c88615d-cc98-4775-a8ee-94bf875987da"
      },
      "source": [
        "plt.figure(figsize=(10,10))\n",
        "for i in range(25):\n",
        "    plt.subplot(5,5,i+1)\n",
        "    plt.xticks([])\n",
        "    plt.yticks([])\n",
        "    plt.grid(False)\n",
        "    plt.imshow(train_images[i], cmap=plt.cm.binary)\n",
        "    plt.xlabel(train_labels[i])\n",
        "plt.show()"
      ],
      "execution_count": 14,
      "outputs": [
        {
          "output_type": "display_data",
          "data": {
            "image/png": "[encoded data removed]",
            "text/plain": [
              "<Figure size 720x720 with 25 Axes>"
            ]
          },
          "metadata": {}
        }
      ]
    },
    {
      "cell_type": "markdown",
      "metadata": {
        "id": "_tJ2jisIEKy4"
      },
      "source": [
        "##Building the Model"
      ]
    },
    {
      "cell_type": "markdown",
      "metadata": {
        "id": "ePgwJQZNEN0F"
      },
      "source": [
        "###Setting up the Layers"
      ]
    },
    {
      "cell_type": "code",
      "metadata": {
        "id": "YOcvM8tfEKKi"
      },
      "source": [
        "model = tf.keras.Sequential([\n",
        "    tf.keras.layers.Flatten(input_shape=(28, 28)),\n",
        "    tf.keras.layers.Dense(128, activation='relu'),\n",
        "    tf.keras.layers.Dense(10)\n",
        "])"
      ],
      "execution_count": 15,
      "outputs": []
    },
    {
      "cell_type": "markdown",
      "metadata": {
        "id": "0L6dxwepES7V"
      },
      "source": [
        "###Compiling the Model"
      ]
    },
    {
      "cell_type": "code",
      "metadata": {
        "id": "OOghGF2PEUdp"
      },
      "source": [
        "model.compile(optimizer='adam',\n",
        "              loss=tf.keras.losses.SparseCategoricalCrossentropy(from_logits=True),\n",
        "              metrics=['accuracy'])"
      ],
      "execution_count": 16,
      "outputs": []
    },
    {
      "cell_type": "markdown",
      "metadata": {
        "id": "-FWqHO_EEUmm"
      },
      "source": [
        "###Training the Model"
      ]
    },
    {
      "cell_type": "code",
      "metadata": {
        "colab": {
          "base_uri": "https://localhost:8080/"
        },
        "id": "WzhrLY2kEWAw",
        "outputId": "b214a7ba-b57b-497e-fd14-36906d6a778f"
      },
      "source": [
        "model.fit(train_images, train_labels, epochs=10)"
      ],
      "execution_count": 17,
      "outputs": [
        {
          "output_type": "stream",
          "name": "stdout",
          "text": [
            "Epoch 1/10\n",
            "1875/1875 [==============================] - 5s 2ms/step - loss: 0.2513 - accuracy: 0.9294\n",
            "Epoch 2/10\n",
            "1875/1875 [==============================] - 4s 2ms/step - loss: 0.1121 - accuracy: 0.9673\n",
            "Epoch 3/10\n",
            "1875/1875 [==============================] - 4s 2ms/step - loss: 0.0779 - accuracy: 0.9758\n",
            "Epoch 4/10\n",
            "1875/1875 [==============================] - 4s 2ms/step - loss: 0.0588 - accuracy: 0.9823\n",
            "Epoch 5/10\n",
            "1875/1875 [==============================] - 4s 2ms/step - loss: 0.0460 - accuracy: 0.9862\n",
            "Epoch 6/10\n",
            "1875/1875 [==============================] - 4s 2ms/step - loss: 0.0359 - accuracy: 0.9890\n",
            "Epoch 7/10\n",
            "1875/1875 [==============================] - 4s 2ms/step - loss: 0.0288 - accuracy: 0.9909\n",
            "Epoch 8/10\n",
            "1875/1875 [==============================] - 4s 2ms/step - loss: 0.0239 - accuracy: 0.9928\n",
            "Epoch 9/10\n",
            "1875/1875 [==============================] - 4s 2ms/step - loss: 0.0178 - accuracy: 0.9947\n",
            "Epoch 10/10\n",
            "1875/1875 [==============================] - 4s 2ms/step - loss: 0.0156 - accuracy: 0.9952\n"
          ]
        },
        {
          "output_type": "execute_result",
          "data": {
            "text/plain": [
              "<keras.callbacks.History at 0x7f2757befc50>"
            ]
          },
          "metadata": {},
          "execution_count": 17
        }
      ]
    },
    {
      "cell_type": "markdown",
      "metadata": {
        "id": "BoylBk3hEYwK"
      },
      "source": [
        "###Evaluating Accuracy"
      ]
    },
    {
      "cell_type": "code",
      "metadata": {
        "colab": {
          "base_uri": "https://localhost:8080/"
        },
        "id": "pE855VpsEa99",
        "outputId": "fd5a64e5-b763-4022-e3b1-30e95eed9fce"
      },
      "source": [
        "test_loss, test_acc = model.evaluate(test_images,  test_labels, verbose=2)\n",
        "\n",
        "print('\\nTest accuracy:', test_acc)"
      ],
      "execution_count": 18,
      "outputs": [
        {
          "output_type": "stream",
          "name": "stdout",
          "text": [
            "313/313 - 0s - loss: 0.0910 - accuracy: 0.9765\n",
            "\n",
            "Test accuracy: 0.9764999747276306\n"
          ]
        }
      ]
    },
    {
      "cell_type": "markdown",
      "metadata": {
        "id": "-T7d05SUEpc-"
      },
      "source": [
        "##Making Predictions on Test Set"
      ]
    },
    {
      "cell_type": "markdown",
      "metadata": {
        "id": "uQn_eRcpExog"
      },
      "source": [
        "###Creating Prediction Probability Model"
      ]
    },
    {
      "cell_type": "code",
      "metadata": {
        "id": "bzMQpgquEs_C"
      },
      "source": [
        "probability_model = tf.keras.Sequential([model, \n",
        "                                         tf.keras.layers.Softmax()])"
      ],
      "execution_count": 19,
      "outputs": []
    },
    {
      "cell_type": "markdown",
      "metadata": {
        "id": "MW2glvQwFnQt"
      },
      "source": [
        "###Making Predictions on Test Images"
      ]
    },
    {
      "cell_type": "code",
      "metadata": {
        "id": "iFHpFqhfFpIX"
      },
      "source": [
        "predictions = probability_model.predict(test_images)"
      ],
      "execution_count": 20,
      "outputs": []
    },
    {
      "cell_type": "markdown",
      "metadata": {
        "id": "Yrq4WZxoE12r"
      },
      "source": [
        "###Viewing Test Image 1"
      ]
    },
    {
      "cell_type": "code",
      "metadata": {
        "colab": {
          "base_uri": "https://localhost:8080/",
          "height": 269
        },
        "id": "AhqPbBGbE80v",
        "outputId": "d0f45fc2-516d-43f1-e1e0-7a2590f80cce"
      },
      "source": [
        "plt.figure()\n",
        "plt.imshow(test_images[0])\n",
        "plt.colorbar()\n",
        "plt.grid(False)\n",
        "plt.show()"
      ],
      "execution_count": 21,
      "outputs": [
        {
          "output_type": "display_data",
          "data": {
            "image/png": "[encoded data removed]",
            "text/plain": [
              "<Figure size 432x288 with 2 Axes>"
            ]
          },
          "metadata": {
            "needs_background": "light"
          }
        }
      ]
    },
    {
      "cell_type": "markdown",
      "metadata": {
        "id": "myM6C7EOE89U"
      },
      "source": [
        "###Viewing Prediction Probabilities for Test Image 1"
      ]
    },
    {
      "cell_type": "code",
      "metadata": {
        "colab": {
          "base_uri": "https://localhost:8080/"
        },
        "id": "lbq_1nKNFBAd",
        "outputId": "bed469d4-73de-4953-eebb-706250aeb7fe"
      },
      "source": [
        "predictions[0]"
      ],
      "execution_count": 22,
      "outputs": [
        {
          "output_type": "execute_result",
          "data": {
            "text/plain": [
              "array([8.36223885e-12, 1.06293974e-10, 4.51797852e-08, 4.98841473e-06,\n",
              "       3.44853573e-12, 1.51304608e-10, 1.38083642e-12, 9.99994993e-01,\n",
              "       8.14166246e-09, 4.39491288e-09], dtype=float32)"
            ]
          },
          "metadata": {},
          "execution_count": 22
        }
      ]
    },
    {
      "cell_type": "markdown",
      "metadata": {
        "id": "LzVz8aMiFBHW"
      },
      "source": [
        "###Getting Most Confident Probability for Test Image 1"
      ]
    },
    {
      "cell_type": "code",
      "metadata": {
        "colab": {
          "base_uri": "https://localhost:8080/"
        },
        "id": "H5GDOjgAFVrK",
        "outputId": "31742cdf-e018-4c56-cf4e-ae30806d3d81"
      },
      "source": [
        "np.argmax(predictions[0])"
      ],
      "execution_count": 23,
      "outputs": [
        {
          "output_type": "execute_result",
          "data": {
            "text/plain": [
              "7"
            ]
          },
          "metadata": {},
          "execution_count": 23
        }
      ]
    },
    {
      "cell_type": "markdown",
      "metadata": {
        "id": "2faBtbB5FWwr"
      },
      "source": [
        "###Verifying Prediction for Test Image 1"
      ]
    },
    {
      "cell_type": "code",
      "metadata": {
        "colab": {
          "base_uri": "https://localhost:8080/"
        },
        "id": "TAcHwxKGFcAm",
        "outputId": "90c4b6be-5eab-4144-f65a-aae0dcd93a46"
      },
      "source": [
        "test_labels[0]"
      ],
      "execution_count": 24,
      "outputs": [
        {
          "output_type": "execute_result",
          "data": {
            "text/plain": [
              "7"
            ]
          },
          "metadata": {},
          "execution_count": 24
        }
      ]
    },
    {
      "cell_type": "markdown",
      "metadata": {
        "id": "AJN2usI4FvUV"
      },
      "source": [
        "##Making Predictions on my own Written Digits"
      ]
    },
    {
      "cell_type": "markdown",
      "metadata": {
        "id": "49TLzvuhGu6Q"
      },
      "source": [
        "###Making Prediction on Image 1"
      ]
    },
    {
      "cell_type": "markdown",
      "metadata": {
        "id": "263W-I-GF54P"
      },
      "source": [
        "####Getting Black/White Pixel Values for Image 1"
      ]
    },
    {
      "cell_type": "code",
      "metadata": {
        "colab": {
          "base_uri": "https://localhost:8080/",
          "height": 174
        },
        "id": "En9oT0QzGFkd",
        "outputId": "bf4ae996-d590-4b58-8b6d-9d8ec6aac8dd"
      },
      "source": [
        "# Digit Written: 6\n",
        "\"\"\"\n",
        "1 1 0 0 0 0 0 0 0 0 0 0 0 0 0 0 0 0 0 0 0 0 0 0 0 0 0 0\n",
        "1 1 0 0 0 0 0 0 0 0 0 0 0 0 0 0 0 0 1 1 1 0 0 0 0 0 0 0\n",
        "1 1 0 0 0 0 0 0 0 0 0 0 0 0 0 0 0 1 1 1 1 0 0 0 0 0 0 0\n",
        "1 1 0 0 0 0 0 0 0 0 0 0 0 0 0 1 1 1 1 1 1 0 0 0 0 0 0 0\n",
        "1 0 0 0 0 0 0 0 0 0 0 0 0 0 1 1 1 1 1 1 0 0 0 0 0 0 0 0\n",
        "1 0 0 0 1 0 0 0 0 0 0 0 1 1 1 1 1 1 0 0 0 0 0 0 0 0 0 0\n",
        "1 1 0 0 1 0 0 0 0 0 1 1 1 1 1 1 1 0 0 0 0 0 0 0 0 0 0 0\n",
        "0 1 0 0 0 0 0 0 0 1 1 1 1 1 1 1 0 0 0 0 0 0 0 0 0 0 0 0\n",
        "1 0 0 0 0 0 0 0 0 1 1 1 1 1 0 0 0 0 0 0 0 0 0 0 0 0 0 0\n",
        "1 0 0 0 0 0 0 1 0 1 1 1 1 0 0 0 0 0 0 0 0 0 0 0 0 0 0 0\n",
        "0 0 0 0 0 0 0 0 1 1 1 1 0 0 0 0 0 0 0 0 0 0 0 0 0 0 0 0\n",
        "0 0 0 1 1 0 0 1 1 1 1 0 1 1 1 1 1 1 0 0 0 0 0 0 0 0 0 0\n",
        "1 1 0 1 1 0 0 1 1 1 1 1 1 1 1 1 1 1 1 0 0 0 0 0 0 0 0 0\n",
        "1 0 0 1 0 0 0 1 1 1 1 1 1 1 1 1 1 1 1 1 0 0 0 0 0 0 0 0\n",
        "1 0 0 0 0 0 0 1 1 1 1 1 1 1 1 1 1 1 1 1 1 0 0 0 0 0 0 0\n",
        "0 0 0 0 1 0 0 1 1 1 1 1 1 1 0 0 0 1 1 1 1 0 0 0 0 0 0 0\n",
        "0 0 0 0 0 0 0 1 1 1 1 1 0 0 0 0 0 0 1 1 1 0 0 0 0 0 0 0\n",
        "1 1 1 0 0 0 0 1 1 1 1 0 0 0 1 0 0 1 1 1 1 0 0 0 0 0 0 0\n",
        "1 1 1 1 1 0 0 1 1 1 1 1 0 0 0 1 1 1 1 1 0 0 0 0 0 0 0 0\n",
        "1 1 1 1 1 0 0 0 1 1 1 1 1 1 1 1 1 1 1 1 0 0 0 0 0 0 0 0\n",
        "1 1 1 1 1 1 1 0 1 1 1 1 1 1 1 1 1 1 1 1 0 0 0 0 0 0 0 0\n",
        "1 1 1 1 1 1 1 1 0 1 1 1 1 1 1 1 1 1 1 0 0 0 0 0 0 0 0 0\n",
        "1 1 1 1 1 1 1 0 0 1 1 1 1 1 1 1 1 1 0 0 0 0 0 0 0 0 0 0\n",
        "1 1 1 1 1 1 1 0 0 1 1 0 1 1 1 1 1 1 0 0 0 0 0 0 0 0 0 0\n",
        "1 1 1 1 1 1 1 1 1 1 1 1 1 1 1 1 0 0 0 0 0 0 0 0 0 0 0 0\n",
        "1 1 1 1 1 1 1 1 1 1 1 1 1 1 0 0 1 0 0 0 0 0 0 0 0 0 0 0\n",
        "1 1 1 1 1 1 1 1 1 1 1 1 1 1 0 0 1 0 0 0 0 0 0 0 0 0 0 0\n",
        "1 1 1 1 1 1 1 1 1 1 1 1 1 1 1 0 0 0 0 0 0 0 0 0 0 0 0 0\n",
        "\"\"\""
      ],
      "execution_count": 25,
      "outputs": [
        {
          "output_type": "execute_result",
          "data": {
            "application/vnd.google.colaboratory.intrinsic+json": {
              "type": "string"
            },
            "text/plain": [
              "'\\n1 1 0 0 0 0 0 0 0 0 0 0 0 0 0 0 0 0 0 0 0 0 0 0 0 0 0 0\\n1 1 0 0 0 0 0 0 0 0 0 0 0 0 0 0 0 0 1 1 1 0 0 0 0 0 0 0\\n1 1 0 0 0 0 0 0 0 0 0 0 0 0 0 0 0 1 1 1 1 0 0 0 0 0 0 0\\n1 1 0 0 0 0 0 0 0 0 0 0 0 0 0 1 1 1 1 1 1 0 0 0 0 0 0 0\\n1 0 0 0 0 0 0 0 0 0 0 0 0 0 1 1 1 1 1 1 0 0 0 0 0 0 0 0\\n1 0 0 0 1 0 0 0 0 0 0 0 1 1 1 1 1 1 0 0 0 0 0 0 0 0 0 0\\n1 1 0 0 1 0 0 0 0 0 1 1 1 1 1 1 1 0 0 0 0 0 0 0 0 0 0 0\\n0 1 0 0 0 0 0 0 0 1 1 1 1 1 1 1 0 0 0 0 0 0 0 0 0 0 0 0\\n1 0 0 0 0 0 0 0 0 1 1 1 1 1 0 0 0 0 0 0 0 0 0 0 0 0 0 0\\n1 0 0 0 0 0 0 1 0 1 1 1 1 0 0 0 0 0 0 0 0 0 0 0 0 0 0 0\\n0 0 0 0 0 0 0 0 1 1 1 1 0 0 0 0 0 0 0 0 0 0 0 0 0 0 0 0\\n0 0 0 1 1 0 0 1 1 1 1 0 1 1 1 1 1 1 0 0 0 0 0 0 0 0 0 0\\n1 1 0 1 1 0 0 1 1 1 1 1 1 1 1 1 1 1 1 0 0 0 0 0 0 0 0 0\\n1 0 0 1 0 0 0 1 1 1 1 1 1 1 1 1 1 1 1 1 0 0 0 0 0 0 0 0\\n1 0 0 0 0 0 0 1 1 1 1 1 1 1 1 1 1 1 1 1 1 0 0 0 0 0 0 0\\n0 0 0 0 1 0 0 1 1 1 1 1 1 1 0 0 0 1 1 1 1 0 0 0 0 0 0 0\\n0 0 0 0 0 0 0 1 1 1 1 1 0 0 0 0 0 0 1 1 1 0 0 0 0 0 0 0\\n1 1 1 0 0 0 0 1 1 1 1 0 0 0 1 0 0 1 1 1 1 0 0 0 0 0 0 0\\n1 1 1 1 1 0 0 1 1 1 1 1 0 0 0 1 1 1 1 1 0 0 0 0 0 0 0 0\\n1 1 1 1 1 0 0 0 1 1 1 1 1 1 1 1 1 1 1 1 0 0 0 0 0 0 0 0\\n1 1 1 1 1 1 1 0 1 1 1 1 1 1 1 1 1 1 1 1 0 0 0 0 0 0 0 0\\n1 1 1 1 1 1 1 1 0 1 1 1 1 1 1 1 1 1 1 0 0 0 0 0 0 0 0 0\\n1 1 1 1 1 1 1 0 0 1 1 1 1 1 1 1 1 1 0 0 0 0 0 0 0 0 0 0\\n1 1 1 1 1 1 1 0 0 1 1 0 1 1 1 1 1 1 0 0 0 0 0 0 0 0 0 0\\n1 1 1 1 1 1 1 1 1 1 1 1 1 1 1 1 0 0 0 0 0 0 0 0 0 0 0 0\\n1 1 1 1 1 1 1 1 1 1 1 1 1 1 0 0 1 0 0 0 0 0 0 0 0 0 0 0\\n1 1 1 1 1 1 1 1 1 1 1 1 1 1 0 0 1 0 0 0 0 0 0 0 0 0 0 0\\n1 1 1 1 1 1 1 1 1 1 1 1 1 1 1 0 0 0 0 0 0 0 0 0 0 0 0 0\\n'"
            ]
          },
          "metadata": {},
          "execution_count": 25
        }
      ]
    },
    {
      "cell_type": "markdown",
      "metadata": {
        "id": "VKqTyfYYGKyT"
      },
      "source": [
        "####Getting Greyscale Pixel Values for Image 1"
      ]
    },
    {
      "cell_type": "code",
      "metadata": {
        "id": "zogD_HlgF5Sv"
      },
      "source": [
        "image_1_greyscale = \"\"\"\n",
        "125 125 128 130 129 132 133 131 134 133 132 133 132 134 136 136 135 135 137 138 136 136 140 137 136 136 135 136\n",
        "126 124 128 131 129 132 133 133 134 135 135 133 133 135 137 136 135 134 126 114 125 135 138 136 136 134 133 135\n",
        "126 125 127 130 127 131 133 132 134 135 135 133 132 131 132 136 133 122 87 64 102 138 136 136 136 136 135 136\n",
        "125 126 127 129 129 131 133 129 131 135 135 133 133 130 128 121 100 75 66 71 109 138 136 134 136 137 135 136\n",
        "125 128 130 129 129 131 133 129 129 133 131 132 134 129 106 75 56 64 96 113 128 137 134 133 135 137 135 136\n",
        "125 128 132 129 127 129 134 130 129 132 128 128 125 101 67 60 74 106 129 134 136 138 135 134 136 138 135 136\n",
        "124 126 131 129 127 129 133 129 129 131 127 124 86 59 66 93 117 128 132 133 135 139 133 131 134 136 135 137\n",
        "127 127 131 130 128 129 130 129 128 126 123 93 57 70 106 125 128 131 133 135 134 136 133 128 131 136 136 136\n",
        "126 127 130 130 132 131 129 128 132 126 95 54 71 111 127 132 129 131 135 135 134 133 132 130 132 136 136 135\n",
        "126 127 129 131 130 131 129 126 131 104 57 63 105 128 132 130 129 130 134 135 133 134 131 130 134 136 137 136\n",
        "128 129 129 129 129 129 129 128 116 68 59 103 128 130 134 135 131 128 133 137 132 135 133 128 135 139 137 136\n",
        "128 127 131 126 126 128 129 123 83 54 97 128 121 111 107 106 114 127 136 135 133 135 136 133 136 139 138 136\n",
        "125 126 128 126 125 129 131 114 60 69 115 106 74 55 56 61 69 87 116 135 133 136 136 135 138 139 138 136\n",
        "124 129 127 127 127 131 131 103 54 78 74 55 43 44 62 70 60 53 71 117 131 133 138 136 136 139 136 135\n",
        "125 127 130 130 127 131 131 91 55 79 45 49 72 91 110 113 100 81 65 86 127 133 135 139 139 136 137 137\n",
        "127 130 132 129 127 131 131 97 59 95 81 96 118 124 129 132 132 126 91 66 119 134 131 135 138 135 136 136\n",
        "127 131 131 130 128 131 131 106 60 99 124 123 129 129 128 128 131 136 99 65 116 134 129 133 135 135 135 135\n",
        "125 126 126 128 128 129 129 118 67 74 127 131 129 130 126 130 132 120 73 69 123 134 132 134 135 133 136 138\n",
        "125 126 125 125 127 129 128 126 88 50 86 119 127 129 128 125 109 76 48 86 130 135 133 134 138 135 136 140\n",
        "125 124 126 125 125 130 129 128 110 63 44 64 82 90 88 77 59 41 53 110 134 134 136 135 136 139 137 139\n",
        "126 123 125 126 125 126 126 128 123 100 61 36 36 36 35 35 39 56 92 126 133 133 136 136 136 136 137 138\n",
        "125 125 125 125 124 126 126 126 128 123 107 83 71 57 55 68 83 104 126 134 131 135 135 138 138 136 134 134\n",
        "123 123 125 125 124 125 126 128 129 126 124 121 117 110 109 115 119 125 129 132 132 135 135 138 138 136 134 135\n",
        "121 123 124 123 123 123 124 128 129 125 124 127 126 126 124 127 124 125 128 132 132 131 131 136 136 135 136 134\n",
        "124 124 122 121 122 124 124 125 126 124 121 124 126 125 127 127 128 128 128 130 132 131 131 134 135 136 136 137\n",
        "123 126 124 124 123 121 123 124 123 124 123 124 124 126 130 128 127 129 131 129 131 134 134 134 134 133 133 135\n",
        "122 124 125 126 124 122 123 123 124 124 123 124 125 125 128 128 127 128 132 131 130 134 134 135 132 132 132 131\n",
        "123 123 127 126 125 123 123 124 125 124 122 125 125 124 125 128 131 130 131 133 131 134 133 132 131 132 132 130\n",
        "\"\"\""
      ],
      "execution_count": 40,
      "outputs": []
    },
    {
      "cell_type": "markdown",
      "metadata": {
        "id": "R-FKO6l4GoYK"
      },
      "source": [
        "####Scaling Image 1 Greyscale Data"
      ]
    },
    {
      "cell_type": "code",
      "metadata": {
        "colab": {
          "base_uri": "https://localhost:8080/"
        },
        "id": "XOVTAX8gGn-m",
        "outputId": "13c47191-ac58-48b3-8aba-d31cbec56937"
      },
      "source": [
        "# Printing length\n",
        "print(len(image_1_greyscale.split()))\n",
        "\n",
        "# Converting values to int\n",
        "test_image_1 = [int(i) for i in image_1_greyscale.split()]\n",
        "\n",
        "# Viewing pixel values\n",
        "print(test_image_1[:10])\n",
        "print(max(test_image_1))\n",
        "\n",
        "# Scaling data by dividing by max\n",
        "test_image_1 = [i / 140.0 for i in test_image_1]\n",
        "\n",
        "# Viewing scaled pixel values\n",
        "print(test_image_1[:2])\n",
        "print(test_image_1[-2:])"
      ],
      "execution_count": 41,
      "outputs": [
        {
          "output_type": "stream",
          "name": "stdout",
          "text": [
            "784\n",
            "[125, 125, 128, 130, 129, 132, 133, 131, 134, 133]\n",
            "140\n",
            "[0.8928571428571429, 0.8928571428571429]\n",
            "[0.9428571428571428, 0.9285714285714286]\n"
          ]
        }
      ]
    },
    {
      "cell_type": "markdown",
      "metadata": {
        "id": "cvoMnrP8HRiq"
      },
      "source": [
        "####Formatting Image 1 Greyscale Data"
      ]
    },
    {
      "cell_type": "code",
      "metadata": {
        "colab": {
          "base_uri": "https://localhost:8080/"
        },
        "id": "CFmsYzK8PPdz",
        "outputId": "47f13f10-0fdc-4cf2-89bd-3902ee0217d4"
      },
      "source": [
        "# Creating new array\n",
        "test_image_resized_1 = []\n",
        "count = 0\n",
        "\n",
        "# Running loop to create rows of pixels\n",
        "for i in range(28):\n",
        "  temp = test_image_1[28*count: 28*count + 28]\n",
        "  test_image_resized_1.append(temp)\n",
        "  count += 1\n",
        "\n",
        "# Reversing pixel values to match training data\n",
        "for i in range(28):\n",
        "  for j in range(28):\n",
        "    test_image_resized_1[i][j] = 1 - test_image_resized_1[i][j]\n",
        "\n",
        "# Converting array to Numpy array\n",
        "test_image_resized_1 = np.array(test_image_resized_1)\n",
        "\n",
        "# Viewing new array of pixel values\n",
        "print(test_image_resized_1.shape)\n",
        "print(test_image_resized_1[0][:2])\n",
        "print(test_image_resized_1[27][-2:])"
      ],
      "execution_count": 42,
      "outputs": [
        {
          "output_type": "stream",
          "name": "stdout",
          "text": [
            "(28, 28)\n",
            "[0.10714286 0.10714286]\n",
            "[0.05714286 0.07142857]\n"
          ]
        }
      ]
    },
    {
      "cell_type": "markdown",
      "metadata": {
        "id": "GBjLnkcoPyOh"
      },
      "source": [
        "####Converting Pixel Array to Numpy Batch"
      ]
    },
    {
      "cell_type": "code",
      "metadata": {
        "colab": {
          "base_uri": "https://localhost:8080/"
        },
        "id": "LWvp0ec4P1_9",
        "outputId": "c20298c5-67ba-47d8-e0d0-e09ed1c05d1d"
      },
      "source": [
        "test_image_resized_1 = (np.expand_dims(test_image_resized_1,0))\n",
        "print(test_image_resized_1.shape)"
      ],
      "execution_count": 43,
      "outputs": [
        {
          "output_type": "stream",
          "name": "stdout",
          "text": [
            "(1, 28, 28)\n"
          ]
        }
      ]
    },
    {
      "cell_type": "markdown",
      "metadata": {
        "id": "DrkLtQaxP6QO"
      },
      "source": [
        "####Viewing Image"
      ]
    },
    {
      "cell_type": "code",
      "metadata": {
        "colab": {
          "base_uri": "https://localhost:8080/",
          "height": 265
        },
        "id": "NoCxN1m3P80a",
        "outputId": "11c3d3d4-5206-492d-eed7-c07048e0fc09"
      },
      "source": [
        "plt.figure()\n",
        "plt.imshow(test_image_resized_1[0])\n",
        "plt.colorbar()\n",
        "plt.grid(False)\n",
        "plt.show()"
      ],
      "execution_count": 44,
      "outputs": [
        {
          "output_type": "display_data",
          "data": {
            "image/png": "[encoded data removed]",
            "text/plain": [
              "<Figure size 432x288 with 2 Axes>"
            ]
          },
          "metadata": {
            "needs_background": "light"
          }
        }
      ]
    },
    {
      "cell_type": "markdown",
      "metadata": {
        "id": "VONHUPzwP-oC"
      },
      "source": [
        "####Outputting Model Prediction on Image 1"
      ]
    },
    {
      "cell_type": "code",
      "metadata": {
        "colab": {
          "base_uri": "https://localhost:8080/"
        },
        "id": "bL7ROqsVQK_p",
        "outputId": "bf12836a-dc45-455d-ab9b-7f4a75f254f8"
      },
      "source": [
        "print(\"Predicted Number:\", np.argmax(probability_model.predict(test_image_resized_1)))"
      ],
      "execution_count": 47,
      "outputs": [
        {
          "output_type": "stream",
          "name": "stdout",
          "text": [
            "Predicted Number: 6\n"
          ]
        }
      ]
    },
    {
      "cell_type": "markdown",
      "metadata": {
        "id": "HXZnjQRQQMQI"
      },
      "source": [
        "###Making Prediction on Image 2"
      ]
    },
    {
      "cell_type": "markdown",
      "metadata": {
        "id": "Sl86QtzFQ4pm"
      },
      "source": [
        "####Getting Black/White Pixel Values for Image 2"
      ]
    },
    {
      "cell_type": "code",
      "metadata": {
        "colab": {
          "base_uri": "https://localhost:8080/",
          "height": 174
        },
        "id": "pvp39eeWQPum",
        "outputId": "8a6f2509-d731-4947-db72-169c6b43a833"
      },
      "source": [
        "# Digit Written: 2\n",
        "\"\"\"\n",
        "0 0 0 0 0 0 0 0 0 0 0 0 0 0 0 0 0 0 0 0 0 0 0 0 0 0 0 0\n",
        "0 0 0 0 0 0 0 0 0 0 0 0 0 0 0 0 0 0 0 0 0 0 0 0 0 0 0 0\n",
        "0 0 0 0 0 0 0 0 0 0 0 0 0 0 0 0 0 0 0 0 0 0 0 0 0 0 0 0\n",
        "0 0 0 0 0 0 0 0 0 0 0 0 0 0 0 0 0 0 0 0 0 0 0 0 0 0 0 0\n",
        "0 0 0 0 0 0 0 0 0 0 0 0 0 0 0 0 0 0 0 0 0 0 0 0 0 0 0 0\n",
        "0 0 0 0 0 0 0 0 0 0 0 1 1 1 1 0 0 0 0 0 0 0 0 0 0 0 0 0\n",
        "0 0 0 0 0 0 0 0 0 1 1 1 1 1 1 1 1 0 0 0 0 0 0 0 0 0 0 0\n",
        "0 0 0 0 0 0 0 0 1 1 1 0 0 0 1 1 1 1 0 0 0 0 0 0 0 0 0 0\n",
        "0 0 0 0 0 0 0 1 1 1 0 0 0 0 0 0 1 1 0 0 0 0 0 0 0 0 0 0\n",
        "0 0 0 0 0 0 0 1 0 0 0 0 0 0 0 0 1 1 0 0 0 0 0 0 0 0 0 0\n",
        "0 0 0 0 0 0 0 0 0 0 0 0 0 0 0 0 1 1 1 0 0 0 0 0 0 0 0 0\n",
        "0 0 0 0 0 0 0 0 0 0 0 0 0 0 0 0 0 1 1 0 0 0 0 0 0 0 0 0\n",
        "0 0 0 0 0 0 0 0 0 0 0 0 0 0 0 0 1 1 0 0 0 0 0 0 0 0 0 0\n",
        "0 0 0 0 0 0 0 0 0 0 0 0 0 0 1 1 1 1 1 0 0 0 0 0 0 0 0 0\n",
        "0 0 0 0 0 0 0 0 0 0 0 1 1 1 1 1 1 1 1 1 0 0 0 0 0 0 0 0\n",
        "0 0 0 0 0 0 0 0 0 0 1 1 0 0 0 1 1 1 1 1 1 0 0 0 0 0 0 0\n",
        "0 0 0 0 0 0 0 0 0 0 1 0 0 0 0 1 1 0 0 1 1 0 0 0 0 0 0 0\n",
        "0 0 0 0 0 0 0 0 0 0 1 0 0 0 1 1 0 0 0 0 1 1 0 0 0 0 0 0\n",
        "0 0 0 0 0 0 0 0 0 0 0 1 0 0 1 0 0 0 0 0 1 1 0 0 0 0 0 0\n",
        "0 0 0 0 0 0 0 0 0 0 0 0 1 1 0 0 0 0 0 0 0 1 0 0 0 0 0 0\n",
        "0 0 0 0 0 0 0 0 0 0 0 0 0 0 0 0 0 0 0 0 0 1 0 0 0 0 0 0\n",
        "0 0 0 0 0 0 0 0 0 0 0 0 0 0 0 0 0 0 0 0 0 0 0 0 0 0 0 0\n",
        "0 0 0 0 0 0 0 0 0 0 0 0 0 0 0 0 0 0 0 0 0 0 0 0 0 0 0 0\n",
        "0 0 0 0 0 0 0 0 0 0 0 0 0 0 0 0 0 0 0 0 0 0 0 0 0 0 0 0\n",
        "0 0 0 0 0 0 0 0 0 0 0 0 0 0 0 0 0 0 0 0 0 0 0 0 0 0 0 0\n",
        "0 0 0 0 0 0 0 0 0 0 0 0 0 0 0 0 0 0 0 0 0 0 0 0 0 0 0 0\n",
        "0 0 0 0 0 0 0 0 0 0 0 0 0 0 0 0 0 0 0 0 0 0 0 0 0 0 0 0\n",
        "0 0 0 0 0 0 0 0 0 0 0 0 0 0 0 0 0 0 0 0 0 0 0 0 0 0 0 0\n",
        "\"\"\""
      ],
      "execution_count": 33,
      "outputs": [
        {
          "output_type": "execute_result",
          "data": {
            "application/vnd.google.colaboratory.intrinsic+json": {
              "type": "string"
            },
            "text/plain": [
              "'\\n0 0 0 0 0 0 0 0 0 0 0 0 0 0 0 0 0 0 0 0 0 0 0 0 0 0 0 0\\n0 0 0 0 0 0 0 0 0 0 0 0 0 0 0 0 0 0 0 0 0 0 0 0 0 0 0 0\\n0 0 0 0 0 0 0 0 0 0 0 0 0 0 0 0 0 0 0 0 0 0 0 0 0 0 0 0\\n0 0 0 0 0 0 0 0 0 0 0 0 0 0 0 0 0 0 0 0 0 0 0 0 0 0 0 0\\n0 0 0 0 0 0 0 0 0 0 0 0 0 0 0 0 0 0 0 0 0 0 0 0 0 0 0 0\\n0 0 0 0 0 0 0 0 0 0 0 1 1 1 1 0 0 0 0 0 0 0 0 0 0 0 0 0\\n0 0 0 0 0 0 0 0 0 1 1 1 1 1 1 1 1 0 0 0 0 0 0 0 0 0 0 0\\n0 0 0 0 0 0 0 0 1 1 1 0 0 0 1 1 1 1 0 0 0 0 0 0 0 0 0 0\\n0 0 0 0 0 0 0 1 1 1 0 0 0 0 0 0 1 1 0 0 0 0 0 0 0 0 0 0\\n0 0 0 0 0 0 0 1 0 0 0 0 0 0 0 0 1 1 0 0 0 0 0 0 0 0 0 0\\n0 0 0 0 0 0 0 0 0 0 0 0 0 0 0 0 1 1 1 0 0 0 0 0 0 0 0 0\\n0 0 0 0 0 0 0 0 0 0 0 0 0 0 0 0 0 1 1 0 0 0 0 0 0 0 0 0\\n0 0 0 0 0 0 0 0 0 0 0 0 0 0 0 0 1 1 0 0 0 0 0 0 0 0 0 0\\n0 0 0 0 0 0 0 0 0 0 0 0 0 0 1 1 1 1 1 0 0 0 0 0 0 0 0 0\\n0 0 0 0 0 0 0 0 0 0 0 1 1 1 1 1 1 1 1 1 0 0 0 0 0 0 0 0\\n0 0 0 0 0 0 0 0 0 0 1 1 0 0 0 1 1 1 1 1 1 0 0 0 0 0 0 0\\n0 0 0 0 0 0 0 0 0 0 1 0 0 0 0 1 1 0 0 1 1 0 0 0 0 0 0 0\\n0 0 0 0 0 0 0 0 0 0 1 0 0 0 1 1 0 0 0 0 1 1 0 0 0 0 0 0\\n0 0 0 0 0 0 0 0 0 0 0 1 0 0 1 0 0 0 0 0 1 1 0 0 0 0 0 0\\n0 0 0 0 0 0 0 0 0 0 0 0 1 1 0 0 0 0 0 0 0 1 0 0 0 0 0 0\\n0 0 0 0 0 0 0 0 0 0 0 0 0 0 0 0 0 0 0 0 0 1 0 0 0 0 0 0\\n0 0 0 0 0 0 0 0 0 0 0 0 0 0 0 0 0 0 0 0 0 0 0 0 0 0 0 0\\n0 0 0 0 0 0 0 0 0 0 0 0 0 0 0 0 0 0 0 0 0 0 0 0 0 0 0 0\\n0 0 0 0 0 0 0 0 0 0 0 0 0 0 0 0 0 0 0 0 0 0 0 0 0 0 0 0\\n0 0 0 0 0 0 0 0 0 0 0 0 0 0 0 0 0 0 0 0 0 0 0 0 0 0 0 0\\n0 0 0 0 0 0 0 0 0 0 0 0 0 0 0 0 0 0 0 0 0 0 0 0 0 0 0 0\\n0 0 0 0 0 0 0 0 0 0 0 0 0 0 0 0 0 0 0 0 0 0 0 0 0 0 0 0\\n0 0 0 0 0 0 0 0 0 0 0 0 0 0 0 0 0 0 0 0 0 0 0 0 0 0 0 0\\n'"
            ]
          },
          "metadata": {},
          "execution_count": 33
        }
      ]
    },
    {
      "cell_type": "markdown",
      "metadata": {
        "id": "ilF2djgLQ-b4"
      },
      "source": [
        "####Getting Greyscale Greyscale Pixel Values for Image 2"
      ]
    },
    {
      "cell_type": "code",
      "metadata": {
        "id": "Vmj3rSC9REDL"
      },
      "source": [
        "image_2_greyscale = \"\"\"\n",
        "145 144 143 145 149 149 145 147 150 151 150 154 156 154 151 149 155 156 157 154 156 160 155 156 153 157 155 153\n",
        "146 147 144 143 149 151 148 146 149 151 149 152 156 155 149 150 154 156 155 154 159 160 156 156 155 157 156 152\n",
        "147 148 147 145 146 149 148 148 150 149 148 149 152 156 148 148 153 156 154 154 156 160 155 156 156 159 154 153\n",
        "147 148 145 146 147 146 150 149 151 150 148 148 146 155 153 148 154 154 153 151 154 157 153 155 157 160 154 151\n",
        "147 149 145 146 149 146 152 151 151 152 151 146 140 138 146 150 153 155 153 152 156 156 154 154 156 159 156 154\n",
        "144 149 146 149 151 151 153 153 152 145 133 127 116 110 113 129 149 154 153 155 155 156 160 156 156 159 155 154\n",
        "144 145 150 148 148 152 154 154 139 120 105 107 107 106 102 105 125 147 149 153 154 160 160 156 156 157 155 153\n",
        "145 144 151 153 148 150 155 137 108 104 111 128 132 136 126 108 102 124 145 154 156 157 164 156 155 156 155 154\n",
        "146 147 147 153 152 151 155 115 98 117 143 156 150 150 147 130 110 107 139 156 156 159 161 159 156 155 154 154\n",
        "149 149 148 152 154 155 152 124 132 155 155 154 150 154 153 145 122 100 129 156 155 157 162 156 157 156 155 151\n",
        "153 153 151 154 156 155 157 156 160 161 156 156 154 153 153 150 126 96 124 154 154 156 161 156 154 156 154 150\n",
        "154 154 154 155 157 157 159 160 161 162 159 160 157 156 154 156 132 95 127 151 155 156 156 155 153 155 154 150\n",
        "154 155 156 158 157 158 160 162 163 166 162 164 161 152 143 146 125 101 131 152 152 156 156 153 151 153 152 149\n",
        "156 156 156 157 158 157 159 163 165 168 165 151 134 128 119 113 105 99 119 149 153 152 155 151 148 152 150 149\n",
        "157 157 162 157 156 156 159 162 168 168 143 125 120 117 118 111 104 102 99 123 151 150 154 154 148 152 148 149\n",
        "161 157 160 162 157 156 157 161 172 160 119 117 129 141 143 119 110 124 109 100 126 153 151 153 150 151 150 146\n",
        "162 160 156 159 160 161 156 164 176 150 115 143 168 170 146 113 118 156 138 109 99 138 150 149 150 146 152 145\n",
        "164 164 157 157 157 160 159 166 173 144 122 152 175 156 123 110 143 167 161 132 101 113 145 150 151 146 148 146\n",
        "165 164 162 160 160 157 159 164 175 159 133 126 140 132 119 143 165 165 171 163 114 95 139 152 154 148 149 149\n",
        "165 163 163 162 161 161 159 166 171 176 153 135 127 121 144 166 167 166 169 180 130 89 131 155 155 151 149 153\n",
        "167 165 163 161 161 160 160 167 169 176 178 168 146 159 170 167 171 169 170 181 134 95 136 161 154 154 150 152\n",
        "168 165 164 163 160 161 161 168 169 172 181 185 180 175 173 170 170 173 175 180 156 141 157 160 156 157 154 152\n",
        "167 167 165 164 160 161 161 166 168 171 176 176 178 176 172 171 170 173 173 176 176 167 161 157 160 161 155 155\n",
        "165 168 167 165 163 163 162 165 166 169 173 178 178 173 170 169 170 170 169 172 170 167 165 161 161 161 156 156\n",
        "167 168 166 165 163 164 164 163 169 172 173 175 175 176 173 171 169 169 169 173 171 166 163 164 162 161 162 162\n",
        "166 167 166 165 164 164 166 160 167 171 173 175 173 175 176 175 169 169 166 171 173 166 164 171 166 161 164 168\n",
        "166 166 167 166 168 164 165 163 164 168 170 175 173 173 172 176 170 168 168 170 173 165 163 169 170 165 165 171\n",
        "168 165 167 166 167 166 164 162 164 169 171 175 173 173 171 175 172 168 167 168 173 167 160 165 172 169 170 172\n",
        "\"\"\""
      ],
      "execution_count": 34,
      "outputs": []
    },
    {
      "cell_type": "markdown",
      "metadata": {
        "id": "yaOWzG2TREQ6"
      },
      "source": [
        "####Scaling Image 2 Greyscale Data"
      ]
    },
    {
      "cell_type": "code",
      "metadata": {
        "colab": {
          "base_uri": "https://localhost:8080/"
        },
        "id": "OI8rYiFBRIDX",
        "outputId": "24809781-7f63-40df-c646-07ffe1f32b12"
      },
      "source": [
        "# Printing length\n",
        "print(len(image_2_greyscale.split()))\n",
        "\n",
        "# Converting values to int\n",
        "test_image_2 = [int(i) for i in image_2_greyscale.split()]\n",
        "\n",
        "# Viewing pixel values\n",
        "print(test_image_2[:10])\n",
        "print(max(test_image_2))\n",
        "\n",
        "# Scaling data by dividing by max\n",
        "test_image_2 = [i / 185.0 for i in test_image_2]\n",
        "\n",
        "# Viewing scaled pixel values\n",
        "print(test_image_2[:2])\n",
        "print(test_image_2[-2:])"
      ],
      "execution_count": 49,
      "outputs": [
        {
          "output_type": "stream",
          "name": "stdout",
          "text": [
            "784\n",
            "[145, 144, 143, 145, 149, 149, 145, 147, 150, 151]\n",
            "185\n",
            "[0.7837837837837838, 0.7783783783783784]\n",
            "[0.918918918918919, 0.9297297297297298]\n"
          ]
        }
      ]
    },
    {
      "cell_type": "markdown",
      "metadata": {
        "id": "ZCRA9yzPRIUb"
      },
      "source": [
        "####Formatting Image 2 Greyscale Data"
      ]
    },
    {
      "cell_type": "code",
      "metadata": {
        "colab": {
          "base_uri": "https://localhost:8080/"
        },
        "id": "fs0w5c9KRMVr",
        "outputId": "12966f91-d33f-45ba-bab4-7b1fcc0cf96d"
      },
      "source": [
        "# Creating new array\n",
        "test_image_resized_2 = []\n",
        "count = 0\n",
        "\n",
        "# Running loop to create rows of pixels\n",
        "for i in range(28):\n",
        "  temp = test_image_2[28*count: 28*count + 28]\n",
        "  test_image_resized_2.append(temp)\n",
        "  count += 1\n",
        "\n",
        "# Reversing pixel values to match training data\n",
        "for i in range(28):\n",
        "  for j in range(28):\n",
        "    test_image_resized_2[i][j] = 1 - test_image_resized_2[i][j]\n",
        "\n",
        "    # Replacing smaller values with 0\n",
        "    if test_image_resized_2[i][j] < 0.2:\n",
        "      test_image_resized_2[i][j] = 0\n",
        "\n",
        "# Converting array to Numpy array\n",
        "test_image_resized_2 = np.array(test_image_resized_2)\n",
        "\n",
        "# Viewing new array of pixel values\n",
        "print(test_image_resized_2.shape)\n",
        "print(test_image_resized_2[0][:2])\n",
        "print(test_image_resized_2[27][-2:])"
      ],
      "execution_count": 50,
      "outputs": [
        {
          "output_type": "stream",
          "name": "stdout",
          "text": [
            "(28, 28)\n",
            "[0.21621622 0.22162162]\n",
            "[0. 0.]\n"
          ]
        }
      ]
    },
    {
      "cell_type": "markdown",
      "metadata": {
        "id": "CQZxSisLRMk8"
      },
      "source": [
        "####Converting Pixel Array to Numpy Batch"
      ]
    },
    {
      "cell_type": "code",
      "metadata": {
        "colab": {
          "base_uri": "https://localhost:8080/"
        },
        "id": "xsh6LNfIRSGW",
        "outputId": "aa624bc6-358e-4791-d3f8-16ac11702c50"
      },
      "source": [
        "test_image_resized_2 = (np.expand_dims(test_image_resized_2,0))\n",
        "print(test_image_resized_2.shape)"
      ],
      "execution_count": 51,
      "outputs": [
        {
          "output_type": "stream",
          "name": "stdout",
          "text": [
            "(1, 28, 28)\n"
          ]
        }
      ]
    },
    {
      "cell_type": "markdown",
      "metadata": {
        "id": "eYz_kVwGRSWs"
      },
      "source": [
        "####Viewing Image"
      ]
    },
    {
      "cell_type": "code",
      "metadata": {
        "colab": {
          "base_uri": "https://localhost:8080/",
          "height": 265
        },
        "id": "6zwxBoEuRUSF",
        "outputId": "48c4d3f1-8638-423a-f546-dc71a4bfc68e"
      },
      "source": [
        "plt.figure()\n",
        "plt.imshow(test_image_resized_2[0])\n",
        "plt.colorbar()\n",
        "plt.grid(False)\n",
        "plt.show()"
      ],
      "execution_count": 52,
      "outputs": [
        {
          "output_type": "display_data",
          "data": {
            "image/png": "[encoded data removed]",
            "text/plain": [
              "<Figure size 432x288 with 2 Axes>"
            ]
          },
          "metadata": {
            "needs_background": "light"
          }
        }
      ]
    },
    {
      "cell_type": "markdown",
      "metadata": {
        "id": "WIh0BLuARUgh"
      },
      "source": [
        "####Outputting Model Prediction on Image 2"
      ]
    },
    {
      "cell_type": "code",
      "metadata": {
        "colab": {
          "base_uri": "https://localhost:8080/"
        },
        "id": "RxDI8qG2RXF8",
        "outputId": "15f9f2eb-26ae-4cec-8dbe-1da4ea419cb9"
      },
      "source": [
        "print(\"Predicted Number:\", np.argmax(probability_model.predict(test_image_resized_2)))"
      ],
      "execution_count": 53,
      "outputs": [
        {
          "output_type": "stream",
          "name": "stdout",
          "text": [
            "Predicted Number: 2\n"
          ]
        }
      ]
    }
  ]
}