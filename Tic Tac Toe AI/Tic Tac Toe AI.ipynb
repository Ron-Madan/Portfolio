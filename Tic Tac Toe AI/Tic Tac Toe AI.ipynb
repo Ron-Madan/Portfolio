{
  "nbformat": 4,
  "nbformat_minor": 0,
  "metadata": {
    "colab": {
      "name": "Tic Tac Toe AI.ipynb",
      "provenance": [],
      "collapsed_sections": []
    },
    "kernelspec": {
      "name": "python3",
      "display_name": "Python 3"
    },
    "language_info": {
      "name": "python"
    }
  },
  "cells": [
    {
      "cell_type": "markdown",
      "source": [
        "#Tic Tac Toe AI Player"
      ],
      "metadata": {
        "id": "5G-QblmPuuRa"
      }
    },
    {
      "cell_type": "markdown",
      "source": [
        "###Importing Libraries & Declaring Global Variables"
      ],
      "metadata": {
        "id": "n5v0WkcUvA1J"
      }
    },
    {
      "cell_type": "code",
      "source": [
        "# Importing Libraries\n",
        "import math\n",
        "import copy\n",
        "import time\n",
        "from IPython.display import clear_output\n",
        "\n",
        "# Global Variables\n",
        "X = 1\n",
        "O = -1\n",
        "EMPTY = 0"
      ],
      "metadata": {
        "id": "zmYa4aAKvDZK"
      },
      "execution_count": 19,
      "outputs": []
    },
    {
      "cell_type": "markdown",
      "source": [
        "###Initial State Function"
      ],
      "metadata": {
        "id": "fq0utpiruxkU"
      }
    },
    {
      "cell_type": "code",
      "source": [
        "def initial_state():\n",
        "    \"\"\"\n",
        "    Returns starting state of the board.\n",
        "    \"\"\"\n",
        "    return [[EMPTY, EMPTY, EMPTY],\n",
        "            [EMPTY, EMPTY, EMPTY],\n",
        "            [EMPTY, EMPTY, EMPTY]]"
      ],
      "metadata": {
        "id": "knJJkh7FuwMT"
      },
      "execution_count": 20,
      "outputs": []
    },
    {
      "cell_type": "markdown",
      "source": [
        "### Output Function"
      ],
      "metadata": {
        "id": "6A08nMTQ1qwh"
      }
    },
    {
      "cell_type": "code",
      "source": [
        "b = initial_state()\n",
        "b[0][0] = X\n",
        "b[1][1] = X\n",
        "b[2][2] = O\n",
        "\n",
        "def output(board):\n",
        "  print(\"\", end = \"     \")\n",
        "  for i in range(1,4):\n",
        "    print(f\"\\033[1;34m{i}\\033[0;0m\", end = \"  \")\n",
        "  print(\"\\n\")\n",
        "\n",
        "  for i in range(1,4):\n",
        "    print(f\"\\033[1;34m{i}\\033[0;0m\", end = \"  \")\n",
        "    for element in range(len(board[i-1])):\n",
        "      if board[i-1][element] == X:\n",
        "        print(f\"\\033[1;32m X\\033[0;0m\", end = \"\")\n",
        "      elif board[i-1][element] == O:\n",
        "        print(f\"\\033[1;31m O\\033[0;0m\", end = \"\")\n",
        "      else:\n",
        "        print(f\"\\033[1;32m  \\033[0;0m\", end = \"\")\n",
        "      \n",
        "      if element != 2:\n",
        "        print(\"\", end = \" |\")\n",
        "\n",
        "    if i != 3:\n",
        "      print(\"\\n   -----------\")\n",
        "\n",
        "output(b)"
      ],
      "metadata": {
        "colab": {
          "base_uri": "https://localhost:8080/"
        },
        "id": "Ky3F_vRn2oTt",
        "outputId": "752d893c-f318-4666-cd81-9541749644f0"
      },
      "execution_count": 21,
      "outputs": [
        {
          "output_type": "stream",
          "name": "stdout",
          "text": [
            "     \u001b[1;34m1\u001b[0;0m  \u001b[1;34m2\u001b[0;0m  \u001b[1;34m3\u001b[0;0m  \n",
            "\n",
            "\u001b[1;34m1\u001b[0;0m  \u001b[1;32m X\u001b[0;0m |\u001b[1;32m  \u001b[0;0m |\u001b[1;32m  \u001b[0;0m\n",
            "   -----------\n",
            "\u001b[1;34m2\u001b[0;0m  \u001b[1;32m  \u001b[0;0m |\u001b[1;32m X\u001b[0;0m |\u001b[1;32m  \u001b[0;0m\n",
            "   -----------\n",
            "\u001b[1;34m3\u001b[0;0m  \u001b[1;32m  \u001b[0;0m |\u001b[1;32m  \u001b[0;0m |\u001b[1;31m O\u001b[0;0m"
          ]
        }
      ]
    },
    {
      "cell_type": "markdown",
      "source": [
        "###Player Function\n",
        "####i.e. Whose turn is it?"
      ],
      "metadata": {
        "id": "aZYgPZssvO1J"
      }
    },
    {
      "cell_type": "code",
      "source": [
        "def player(board):\n",
        "    \"\"\"\n",
        "    Returns player who has the next turn on a board.\n",
        "    \"\"\"\n",
        "\n",
        "    # Declaring count variables\n",
        "    x_count = 0\n",
        "    o_count = 0\n",
        "\n",
        "    # Looping through every row\n",
        "    for i in board:\n",
        "      \n",
        "      # Looping through every element in row\n",
        "      for j in i:\n",
        "        \n",
        "        # Checking for \"X\"\n",
        "        if j == X:\n",
        "          \n",
        "          # Increasing count\n",
        "          x_count += 1\n",
        "        \n",
        "        # Checking for \"O\"\n",
        "        elif j == O:\n",
        "          \n",
        "          # Increasing count\n",
        "          o_count += 1\n",
        "\n",
        "    # Comparing counts\n",
        "    if x_count == o_count:\n",
        "      \n",
        "      # Returning \"X\"\n",
        "      return X\n",
        "\n",
        "    else:\n",
        "      \n",
        "      # Returning \"O\"\n",
        "      return O"
      ],
      "metadata": {
        "id": "SBimiS97vXGD"
      },
      "execution_count": 22,
      "outputs": []
    },
    {
      "cell_type": "markdown",
      "source": [
        "###Possible Moves Function"
      ],
      "metadata": {
        "id": "-N53g4ekwBQM"
      }
    },
    {
      "cell_type": "code",
      "source": [
        "def actions(board):\n",
        "    \"\"\"\n",
        "    Returns set of all possible actions (i, j) available on the board.\n",
        "    \"\"\"\n",
        "\n",
        "    # Declaring empty set\n",
        "    a = set()\n",
        "\n",
        "    # Looping through every row\n",
        "    for i in range(3):\n",
        "\n",
        "      # Looping through every element in row\n",
        "      for j in range(3):\n",
        "        \n",
        "        # Checking for \"EMPTY\" state\n",
        "        if board[i][j] == EMPTY:\n",
        "          \n",
        "          # Adding element to board\n",
        "          a.add((i,j))\n",
        "    \n",
        "    # Returning set\n",
        "    return a"
      ],
      "metadata": {
        "id": "8d05PbXRwIHf"
      },
      "execution_count": 23,
      "outputs": []
    },
    {
      "cell_type": "markdown",
      "source": [
        "###Action Function\n",
        "####i.e. How would the board look if such an action were taken?"
      ],
      "metadata": {
        "id": "q_1416qEwVFc"
      }
    },
    {
      "cell_type": "code",
      "source": [
        "def result(board, action):\n",
        "    \"\"\"\n",
        "    Returns the board that results from making move (i, j) on the board.\n",
        "    \"\"\"\n",
        "\n",
        "    # Checking for a valid move\n",
        "    if action not in actions(board):\n",
        "      \n",
        "      # Raising error\n",
        "      raise NameError(\"Invalid Move\")\n",
        "    \n",
        "    # Creating copy of the array\n",
        "    board_copy = copy.deepcopy(board)\n",
        "\n",
        "    # Determining player\n",
        "    p = player(board)\n",
        "\n",
        "    # Making hypothetical move\n",
        "    board_copy[action[0]][action[1]] = p\n",
        "\n",
        "    # Returning hypothetical board\n",
        "    return board_copy"
      ],
      "metadata": {
        "id": "v78mlosPwcLh"
      },
      "execution_count": 24,
      "outputs": []
    },
    {
      "cell_type": "markdown",
      "source": [
        "###Winner Function\n",
        "####i.e. Who won?"
      ],
      "metadata": {
        "id": "CE5S4BWywvaq"
      }
    },
    {
      "cell_type": "code",
      "source": [
        "def winner(board):\n",
        "    \"\"\"\n",
        "    Returns the winner of the game, if there is one.\n",
        "    \"\"\"\n",
        "\n",
        "    # Looping through rows\n",
        "    for i in board:\n",
        "\n",
        "      # Checking row sum\n",
        "      if sum(i) == 3:\n",
        "\n",
        "        # Returning \"X\"\n",
        "        return X\n",
        "      \n",
        "      elif sum(i) == -3:\n",
        "        \n",
        "        # Returning \"O\"\n",
        "        return O\n",
        "    \n",
        "    # Finding column sums\n",
        "    col_1 = sum([i[0] for i in board])\n",
        "    col_2 = sum([i[1] for i in board])\n",
        "    col_3 = sum([i[2] for i in board])\n",
        "\n",
        "    # Creating column sums' array\n",
        "    col_sums = [col_1, col_2, col_3]\n",
        "\n",
        "    # Checking sums\n",
        "    for s in col_sums:\n",
        "\n",
        "      # Checking col sum\n",
        "      if s == 3:\n",
        "\n",
        "        # Returning \"X\"\n",
        "        return X\n",
        "\n",
        "      elif s == -3:\n",
        "\n",
        "        # Returning \"O\"\n",
        "        return O\n",
        "    \n",
        "    # Finding left diagonal sum\n",
        "    left_diagonal = board[0][0] + board[1][1] + board[2][2]\n",
        "\n",
        "    # Checking sum\n",
        "    if left_diagonal == 3:\n",
        "\n",
        "      # Returning \"X\"\n",
        "      return X\n",
        "    \n",
        "    elif left_diagonal == -3:\n",
        "\n",
        "      # Returning \"O\"\n",
        "      return O\n",
        "    \n",
        "    # Finding right diagonal sum\n",
        "    right_diagonal = board[0][2] + board[1][1] + board[2][0]\n",
        "    \n",
        "    # Checking sum\n",
        "    if right_diagonal == 3:\n",
        "\n",
        "      # Returning \"X\"\n",
        "      return X\n",
        "    \n",
        "    elif right_diagonal == -3:\n",
        "\n",
        "      # Returning \"O\"\n",
        "      return O\n",
        "    \n",
        "    # Returning None\n",
        "    return None"
      ],
      "metadata": {
        "id": "BNRDjgeDw7AC"
      },
      "execution_count": 25,
      "outputs": []
    },
    {
      "cell_type": "markdown",
      "source": [
        "###Terminal Function\n",
        "####i.e. Has the game ended?"
      ],
      "metadata": {
        "id": "1htVUiCGz7Pl"
      }
    },
    {
      "cell_type": "code",
      "source": [
        "def terminal(board):\n",
        "    \"\"\"\n",
        "    Returns True if game is over, False otherwise.\n",
        "    \"\"\"\n",
        "\n",
        "    # Checking for winner\n",
        "    if winner(board) != None:\n",
        "      \n",
        "      # Returning true\n",
        "      return True\n",
        "\n",
        "    else:\n",
        "      \n",
        "      # Looping through row range\n",
        "      for i in range(3):\n",
        "        \n",
        "        # Looping through col range\n",
        "        for j in range(3):\n",
        "          \n",
        "          # Checking current element\n",
        "          if board[i][j] == EMPTY:\n",
        "            \n",
        "            # Returning false\n",
        "            return False\n",
        "\n",
        "      # Returning true, if draw\n",
        "      return True"
      ],
      "metadata": {
        "id": "FopMkn350BXw"
      },
      "execution_count": 26,
      "outputs": []
    },
    {
      "cell_type": "markdown",
      "source": [
        "###Utility Function\n",
        "####i.e. Value of current game state."
      ],
      "metadata": {
        "id": "J7PqdZR_0yV1"
      }
    },
    {
      "cell_type": "code",
      "source": [
        "def utility(board):\n",
        "    \"\"\"\n",
        "    Returns 1 if X has won the game, -1 if O has won, 0 otherwise.\n",
        "    \"\"\"\n",
        "\n",
        "    # Checking for winner \"X\"\n",
        "    if winner(board) == X:\n",
        "      \n",
        "      # Returning positive value\n",
        "      return 1\n",
        "\n",
        "    # Checking for winner \"O\"\n",
        "    elif winner(board) == O:\n",
        "      \n",
        "      # Returning negative value\n",
        "      return -1\n",
        "\n",
        "    # Checking for draw\n",
        "    elif winner(board) == None:\n",
        "      \n",
        "      # Returning neutral value, 0\n",
        "      return 0"
      ],
      "metadata": {
        "id": "8qGbJTlX03dP"
      },
      "execution_count": 27,
      "outputs": []
    },
    {
      "cell_type": "markdown",
      "source": [
        "###Max Value Function\n",
        "####i.e. Optimal move to make from \"X\"s perspective."
      ],
      "metadata": {
        "id": "Moj0rJg11N5f"
      }
    },
    {
      "cell_type": "code",
      "source": [
        "def Max_value(board):\n",
        "  \n",
        "  # Checking for game end\n",
        "  if terminal(board):\n",
        "    \n",
        "    # Returning utility of board if game end\n",
        "    return utility(board)\n",
        "\n",
        "  # Declaring score variable\n",
        "  v = -math.inf\n",
        "\n",
        "  # Looping through possible actions\n",
        "  for a in actions(board):\n",
        "      \n",
        "    # Finding max score with given move \n",
        "    v = max(v, Min_value(result(board, a)))\n",
        "\n",
        "  # Returning score\n",
        "  return v"
      ],
      "metadata": {
        "id": "uDNkUDzU1h0t"
      },
      "execution_count": 28,
      "outputs": []
    },
    {
      "cell_type": "markdown",
      "source": [
        "###Min Value Function\n",
        "####i.e. Optimal move to make from \"O\"s perspective."
      ],
      "metadata": {
        "id": "TuXYLeW9HK-9"
      }
    },
    {
      "cell_type": "code",
      "source": [
        "def Min_value(board):\n",
        "  \n",
        "  # Checking for game end\n",
        "  if terminal(board):\n",
        "    \n",
        "    # Returning utility of board if game end\n",
        "    return utility(board)\n",
        "\n",
        "  # Declaring score variable\n",
        "  v = math.inf\n",
        "\n",
        "  # Looping through possible actions\n",
        "  for a in actions(board):\n",
        "      \n",
        "    # Finding max score with given move \n",
        "    v = min(v, Max_value(result(board, a)))\n",
        "\n",
        "  # Returning score\n",
        "  return v"
      ],
      "metadata": {
        "id": "af4y6p-YHNLe"
      },
      "execution_count": 29,
      "outputs": []
    },
    {
      "cell_type": "markdown",
      "source": [
        "###Minimax Algorithm"
      ],
      "metadata": {
        "id": "AhccavVVHXWE"
      }
    },
    {
      "cell_type": "code",
      "source": [
        "def minimax(board):\n",
        "    \"\"\"\n",
        "    Returns the optimal action for the current player on the board.\n",
        "    \"\"\"\n",
        "\n",
        "    # Checking for game end\n",
        "    if terminal(board) == True:\n",
        "      \n",
        "      # Retunrning null result\n",
        "      return None\n",
        "    \n",
        "    # Finding current player\n",
        "    p = player(board)\n",
        "\n",
        "    # Checking current player \"X\"\n",
        "    if p == X:\n",
        "      \n",
        "      # Initializing negative reward\n",
        "      reward = -1*math.inf\n",
        "      \n",
        "      # Looping through possible actions\n",
        "      for a in actions(board):\n",
        "        \n",
        "        # Finding opponent's best outcome using Min_value()\n",
        "        v = Min_value(result(board, a))\n",
        "        \n",
        "        # Checking for larger reward\n",
        "        if v > reward:\n",
        "          \n",
        "          # Storing reward and move\n",
        "          reward = v\n",
        "          move = a\n",
        "        \n",
        "      # Returning optimal move\n",
        "      return move\n",
        "\n",
        "    # Checking current player \"O\"\n",
        "    elif p == O:\n",
        "      \n",
        "      # Initializing positive reward\n",
        "      reward = math.inf\n",
        "      \n",
        "      # Looping through possible actions\n",
        "      for a in actions(board):\n",
        "        \n",
        "        # Finding opponent's best outcome using Max_value()\n",
        "        v = Max_value(result(board, a))\n",
        "        \n",
        "        # Checking for smaller reward\n",
        "        if v < reward:\n",
        "          \n",
        "          # Storing reward and move\n",
        "          reward = v\n",
        "          move = a\n",
        "          \n",
        "      # Returning optimal move    \n",
        "      return move"
      ],
      "metadata": {
        "id": "5nRuE2MAHY2x"
      },
      "execution_count": 30,
      "outputs": []
    },
    {
      "cell_type": "markdown",
      "source": [
        "###Choose Player Function"
      ],
      "metadata": {
        "id": "qEACxhafL9aV"
      }
    },
    {
      "cell_type": "code",
      "source": [
        "def choose_player():\n",
        "  \n",
        "  # Outputting info to user\n",
        "  print(\"X goes first & O goes second...\")\n",
        "  \n",
        "  # Asking user for choice input\n",
        "  pick = input(\"Do you want to play as X or O? (Type X or O): \")\n",
        "  \n",
        "  # Adding lines for output cleanliness\n",
        "  print(\"\\n\")\n",
        "\n",
        "  # Checking user choice\n",
        "  if pick.lower() == \"x\":\n",
        "    \n",
        "    # Returning \"X\"\n",
        "    return X\n",
        "\n",
        "  else:\n",
        "    \n",
        "    # Returning \"O\"\n",
        "    return O"
      ],
      "metadata": {
        "id": "i8DqU8ZkPJs5"
      },
      "execution_count": 31,
      "outputs": []
    },
    {
      "cell_type": "markdown",
      "source": [
        "###AI Player Function"
      ],
      "metadata": {
        "id": "8gNDet4OPYiw"
      }
    },
    {
      "cell_type": "code",
      "source": [
        "def ai_move(board):\n",
        "  \n",
        "  # Getting current player\n",
        "  p = player(board)\n",
        "\n",
        "  # Adding time gap\n",
        "  time.sleep(1)\n",
        "\n",
        "  # Clearing output\n",
        "  clear_output()\n",
        "  \n",
        "  # Outputting info to user\n",
        "  print(f\"\\nIt is the AI's turn.\\n\")\n",
        "\n",
        "  # Outputting board state\n",
        "  output(board)\n",
        "\n",
        "  # Outputting info to user\n",
        "  print(\"\\n\\nAI Thinking...\")\n",
        "\n",
        "  # Adding time gap\n",
        "  time.sleep(3)\n",
        "\n",
        "  # Finding optimal AI move\n",
        "  choice = minimax(board)\n",
        "\n",
        "  # Making move\n",
        "  y = choice[0]\n",
        "  x = choice[1]\n",
        "  board[y][x] = p"
      ],
      "metadata": {
        "id": "Qa2tT7PsPXXx"
      },
      "execution_count": 32,
      "outputs": []
    },
    {
      "cell_type": "markdown",
      "source": [
        "###Human Player Function"
      ],
      "metadata": {
        "id": "aq2pW1_gRIrU"
      }
    },
    {
      "cell_type": "code",
      "source": [
        "def human_move(board):\n",
        "  \n",
        "  # Getting current player\n",
        "  p = player(board)\n",
        "\n",
        "  # Adding time gap\n",
        "  time.sleep(1)\n",
        "  \n",
        "  # Clearing output\n",
        "  clear_output()\n",
        "\n",
        "  # Outputting info to user\n",
        "  print(f\"\\nIt is your turn.\")\n",
        "\n",
        "  # Outputting board state\n",
        "  output(board)\n",
        "  \n",
        "  # Getting user move\n",
        "  row = int(input(\"\\n\\nEnter the row number (1-3): \"))\n",
        "  col = int(input(\"Enter the column number (1-3): \"))\n",
        "  print(f\"\\nYou chose row {row} & column {col}.\")\n",
        "\n",
        "  # Adjusting user choice for 0-indexing\n",
        "  col -= 1\n",
        "  row -= 1\n",
        "  \n",
        "  # Making move\n",
        "  board[row][col] = p"
      ],
      "metadata": {
        "id": "lD2BL6WNRKNP"
      },
      "execution_count": 33,
      "outputs": []
    },
    {
      "cell_type": "markdown",
      "source": [
        "###Play Function"
      ],
      "metadata": {
        "id": "8AQsHDDDTgNo"
      }
    },
    {
      "cell_type": "code",
      "source": [
        "def play():\n",
        "\n",
        "  # Initializing blank board\n",
        "  board = initial_state()\n",
        "\n",
        "  # Getting human player choice\n",
        "  human = choose_player()\n",
        "\n",
        "  # Making moves until game ends\n",
        "  while terminal(board) == False:\n",
        "\n",
        "    # Checking for human's turn\n",
        "    if player(board) == human:\n",
        "\n",
        "      # Calling human move function\n",
        "      human_move(board)\n",
        "\n",
        "    else:\n",
        "\n",
        "      # Calling AI move function\n",
        "      ai_move(board)\n",
        "\n",
        "  # Getting winner of game\n",
        "  w = winner(board)\n",
        "\n",
        "  # Clearing output\n",
        "  clear_output()\n",
        "\n",
        "  # Outputting board state\n",
        "  output(board)\n",
        "\n",
        "  # Checking for human win\n",
        "  if human == w:\n",
        "\n",
        "    # Outputting info to user\n",
        "    print(\"\\n\\nHuman Wins!\")\n",
        "  \n",
        "  # Checking for tie\n",
        "  elif w == None:\n",
        "\n",
        "    # Outputting info to user\n",
        "    print(\"\\n\\nTie!\")\n",
        "  \n",
        "  else:\n",
        "\n",
        "    # Outputting info to user\n",
        "    print(\"\\n\\nAI Wins!\")"
      ],
      "metadata": {
        "id": "TcqzW6v6TiN-"
      },
      "execution_count": 34,
      "outputs": []
    },
    {
      "cell_type": "code",
      "source": [
        "play()"
      ],
      "metadata": {
        "colab": {
          "base_uri": "https://localhost:8080/"
        },
        "id": "Zh1NEGULbwD4",
        "outputId": "45813629-ef5b-4d7d-b044-d2d01ab47d6a"
      },
      "execution_count": 35,
      "outputs": [
        {
          "output_type": "stream",
          "name": "stdout",
          "text": [
            "     \u001b[1;34m1\u001b[0;0m  \u001b[1;34m2\u001b[0;0m  \u001b[1;34m3\u001b[0;0m  \n",
            "\n",
            "\u001b[1;34m1\u001b[0;0m  \u001b[1;31m O\u001b[0;0m |\u001b[1;32m X\u001b[0;0m |\u001b[1;32m X\u001b[0;0m\n",
            "   -----------\n",
            "\u001b[1;34m2\u001b[0;0m  \u001b[1;32m X\u001b[0;0m |\u001b[1;32m X\u001b[0;0m |\u001b[1;31m O\u001b[0;0m\n",
            "   -----------\n",
            "\u001b[1;34m3\u001b[0;0m  \u001b[1;31m O\u001b[0;0m |\u001b[1;31m O\u001b[0;0m |\u001b[1;32m X\u001b[0;0m\n",
            "\n",
            "Tie!\n"
          ]
        }
      ]
    }
  ]
}