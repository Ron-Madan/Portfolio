{
  "nbformat": 4,
  "nbformat_minor": 0,
  "metadata": {
    "colab": {
      "name": "Linear Regression - Self Implementation.ipynb",
      "provenance": [],
      "collapsed_sections": []
    },
    "kernelspec": {
      "name": "python3",
      "display_name": "Python 3"
    },
    "language_info": {
      "name": "python"
    }
  },
  "cells": [
    {
      "cell_type": "markdown",
      "metadata": {
        "id": "C-7U8cs5RilU"
      },
      "source": [
        "Importing classes:"
      ]
    },
    {
      "cell_type": "code",
      "metadata": {
        "id": "jhwuDbS1wftn"
      },
      "source": [
        "import math"
      ],
      "execution_count": null,
      "outputs": []
    },
    {
      "cell_type": "markdown",
      "metadata": {
        "id": "VCui8ERZwgG_"
      },
      "source": [
        "Declaring points array:"
      ]
    },
    {
      "cell_type": "code",
      "metadata": {
        "id": "8TsW_GMmRl1H"
      },
      "source": [
        "points = [[11, 75.3], [25, 100], [47, 97.4], [73, 136.1], [110,140], [159, 145], [233, 159.8], [258, 178.1]]"
      ],
      "execution_count": null,
      "outputs": []
    },
    {
      "cell_type": "markdown",
      "metadata": {
        "id": "QTOZh3mCTS2j"
      },
      "source": [
        "Getting average slope:"
      ]
    },
    {
      "cell_type": "code",
      "metadata": {
        "colab": {
          "base_uri": "https://localhost:8080/"
        },
        "id": "1de8TZkZTRbu",
        "outputId": "634edc2c-3ca2-4591-b51c-71647d255a6d"
      },
      "source": [
        "def average_slope(points):\n",
        "  slope = (points[-1][1] - points[0][1]) / (points[-1][0] - points[0][0])\n",
        "  return round(slope,2)\n",
        "avg_slope = average_slope(points)\n",
        "print(f\"The average slope between the consecutive points is: {avg_slope}.\")"
      ],
      "execution_count": null,
      "outputs": [
        {
          "output_type": "stream",
          "name": "stdout",
          "text": [
            "The average slope between the consecutive points is: 0.42.\n"
          ]
        }
      ]
    },
    {
      "cell_type": "markdown",
      "source": [
        "Creating sum of squares error function:"
      ],
      "metadata": {
        "id": "WrC60rux74Vt"
      }
    },
    {
      "cell_type": "code",
      "source": [
        "def sum_of_squares_error(slope, intercept, points):\n",
        "  sse_total = 0\n",
        "  for i in points:\n",
        "    sse_total += round((i[1]-(slope*i[0] + intercept))**2,2)\n",
        "  return round(sse_total,2)\n",
        "# Test case:\n",
        "initial_sse = sum_of_squares_error(avg_slope, 0, points)\n",
        "print(f\"The initial 'Sum of Squares Error' for the average slope is: {initial_sse}.\")"
      ],
      "metadata": {
        "colab": {
          "base_uri": "https://localhost:8080/"
        },
        "id": "NZDa62Aw77ed",
        "outputId": "5e4b8af2-3224-4154-e4e3-13b77ffacf82"
      },
      "execution_count": null,
      "outputs": [
        {
          "output_type": "stream",
          "name": "stdout",
          "text": [
            "The initial 'Sum of Squares Error' for the average slope is: 53771.62.\n"
          ]
        }
      ]
    },
    {
      "cell_type": "markdown",
      "source": [
        "Finding best intercept using binary search:"
      ],
      "metadata": {
        "id": "0fmfJzfg9YG6"
      }
    },
    {
      "cell_type": "code",
      "source": [
        "def get_best_intercept(slope, points):\n",
        "  best_intercept = 0\n",
        "  best_error = math.inf\n",
        "  max = 1000\n",
        "  min = -1000\n",
        "\n",
        "  while True:\n",
        "\n",
        "    # Middle value\n",
        "    middle = (max+min)/2\n",
        "\n",
        "    # Left side guess (25th percentile)\n",
        "    guess_left = min + (max-min)*0.25\n",
        "    error_left  = sum_of_squares_error(slope, guess_left, points)\n",
        "\n",
        "    # Right side guess (75th percentile)\n",
        "    guess_right = min + (max-min)*0.75\n",
        "    error_right  = sum_of_squares_error(slope, guess_right, points)\n",
        "\n",
        "    # Comparing errors\n",
        "    if error_left < error_right and error_left < best_error:\n",
        "      max = middle\n",
        "      best_error = error_left\n",
        "      best_intercept = guess_left\n",
        "    elif error_right < error_left and error_right < best_error:\n",
        "      min = middle\n",
        "      best_error = error_right\n",
        "      best_intercept = guess_right\n",
        "    else:\n",
        "      break\n",
        "  return best_intercept\n",
        "\n",
        "best_intercept = get_best_intercept(avg_slope,points)\n",
        "print(f\"The best intercept for the previously found 'Average Slope' is {best_intercept}.\")\n",
        "print(f\"The model equation is: y = {avg_slope}x + {best_intercept}\")"
      ],
      "metadata": {
        "colab": {
          "base_uri": "https://localhost:8080/"
        },
        "id": "pbZk7mpW73qL",
        "outputId": "adb2fb2c-acdc-4d98-bc2f-9b2464e04d6a"
      },
      "execution_count": null,
      "outputs": [
        {
          "output_type": "stream",
          "name": "stdout",
          "text": [
            "The best intercept for the previously found 'Average Slope' is 78.125.\n",
            "The model equation is: y = 0.42x + 78.125\n"
          ]
        }
      ]
    },
    {
      "cell_type": "markdown",
      "metadata": {
        "id": "8vxjAUi_W418"
      },
      "source": [
        "Using binary search to find optimal slope (ignoring y-intercept):"
      ]
    },
    {
      "cell_type": "code",
      "source": [
        "def get_best_slope(slope):\n",
        "  best_slope = 0\n",
        "  best_error = math.inf\n",
        "  max = 1000\n",
        "  min = -1000\n",
        "\n",
        "  while True:\n",
        "\n",
        "    # Middle value\n",
        "    middle = (max+min)/2\n",
        "\n",
        "    # Left side guess (25th percentile)\n",
        "    guess_left = min + (max-min)*0.25\n",
        "    error_left  = sum_of_squares_error(guess_left, 0, points)\n",
        "\n",
        "    # Right side guess (75th percentile)\n",
        "    guess_right = min + (max-min)*0.75\n",
        "    error_right  = sum_of_squares_error(guess_right, 0, points)\n",
        "\n",
        "    # Comparing errors\n",
        "    if error_left < error_right and error_left < best_error:\n",
        "      max = middle\n",
        "      best_error = error_left\n",
        "      best_slope = guess_left\n",
        "    elif error_right < error_left and error_right < best_error:\n",
        "      min = middle\n",
        "      best_error = error_right\n",
        "      best_slope = guess_right\n",
        "    else:\n",
        "      break\n",
        "  return best_slope\n",
        "\n",
        "best_slope = get_best_slope(points)\n",
        "print(f\"The best slope for the data is: {best_slope}.\")\n",
        "print(f\"The model equation is currently: y = {best_slope}x + b\")"
      ],
      "metadata": {
        "colab": {
          "base_uri": "https://localhost:8080/"
        },
        "id": "NXZPDw1k4fg9",
        "outputId": "daa58203-ce88-49d1-b20c-ddb641758d2b"
      },
      "execution_count": null,
      "outputs": [
        {
          "output_type": "stream",
          "name": "stdout",
          "text": [
            "The best slope for the data is: 0.9765625.\n",
            "The model equation is currently: y = 0.9765625x + b\n"
          ]
        }
      ]
    },
    {
      "cell_type": "markdown",
      "source": [
        "Modifying the slope optimization algorithm to account for the y-intercept AND **RANGE**:"
      ],
      "metadata": {
        "id": "0NOwK4R7I-UY"
      }
    },
    {
      "cell_type": "code",
      "source": [
        "def get_best_slope_modified(slope, min, max):\n",
        "  best_slope = 0\n",
        "  best_error = math.inf\n",
        "  max = max\n",
        "  min = min\n",
        "\n",
        "  while True:\n",
        "\n",
        "    # Middle value\n",
        "    middle = (max+min)/2\n",
        "\n",
        "    # Left side guess (25th percentile)\n",
        "    guess_left = min + (max-min)*0.25\n",
        "    error_left  = sum_of_squares_error(guess_left, get_best_intercept(guess_left, points), points)\n",
        "\n",
        "    # Right side guess (75th percentile)\n",
        "    guess_right = min + (max-min)*0.75\n",
        "    # 0 --> get_best_intercept(guess_right, points)\n",
        "    error_right  = sum_of_squares_error(guess_right, get_best_intercept(guess_right, points), points)\n",
        "\n",
        "    # Comparing errors\n",
        "    if error_left < error_right and error_left < best_error:\n",
        "      max = middle\n",
        "      best_error = error_left\n",
        "      best_slope = guess_left\n",
        "    elif error_right < error_left and error_right < best_error:\n",
        "      min = middle\n",
        "      best_error = error_right\n",
        "      best_slope = guess_right\n",
        "    else:\n",
        "      break\n",
        "  return best_slope\n",
        "\n",
        "best_slope_modified = get_best_slope_modified(points, 0,1)\n",
        "#best_slope_modified = get_best_slope_modified(points, 0,100)\n",
        "#best_slope_modified = get_best_slope_modified(points, -1000,1000)\n",
        "print(f\"The best slope for the data is: {best_slope_modified}.\")\n",
        "print(f\"The model equation is currently: y = {best_slope_modified}x + b\")"
      ],
      "metadata": {
        "colab": {
          "base_uri": "https://localhost:8080/"
        },
        "id": "V0-Zwkl1I97Z",
        "outputId": "ea619830-227a-4d00-b829-9b316f138ad1"
      },
      "execution_count": null,
      "outputs": [
        {
          "output_type": "stream",
          "name": "stdout",
          "text": [
            "The best slope for the data is: 0.3125.\n",
            "The model equation is currently: y = 0.3125x + b\n"
          ]
        }
      ]
    },
    {
      "cell_type": "markdown",
      "source": [
        "Finding best intercept from the best slope"
      ],
      "metadata": {
        "id": "HEacHRtgJc4m"
      }
    },
    {
      "cell_type": "code",
      "source": [
        "best_intercept = get_best_intercept(best_slope_modified, points)\n",
        "print(f\"Thus, the best model for the data is: y = {best_slope_modified}x + {best_intercept}\")"
      ],
      "metadata": {
        "colab": {
          "base_uri": "https://localhost:8080/"
        },
        "id": "0u0iEmObJfBN",
        "outputId": "8ccd77a6-cb27-4697-ceb9-587eefebb07a"
      },
      "execution_count": null,
      "outputs": [
        {
          "output_type": "stream",
          "name": "stdout",
          "text": [
            "Thus, the best model for the data is: y = 0.3125x + 93.75\n"
          ]
        }
      ]
    },
    {
      "cell_type": "markdown",
      "source": [
        "Confirming best model by checking SSE"
      ],
      "metadata": {
        "id": "uNAFNgTkLaCj"
      }
    },
    {
      "cell_type": "code",
      "source": [
        "print(f\"The SSE for the model is: {sum_of_squares_error(best_slope_modified, best_intercept, points)}\")\n",
        "print(f\"The SSE for the 'eyeballed' model is: {sum_of_squares_error(0.4, 80, points)}\") # y = 0.4x + 80"
      ],
      "metadata": {
        "colab": {
          "base_uri": "https://localhost:8080/"
        },
        "id": "vpyl73WRLb8m",
        "outputId": "f32ea1f9-04c6-4c0a-9a5c-474e22f3bfc8"
      },
      "execution_count": null,
      "outputs": [
        {
          "output_type": "stream",
          "name": "stdout",
          "text": [
            "The SSE for the model is: 1188.11\n",
            "The SSE for the 'eyeballed' model is: 1371.91\n"
          ]
        }
      ]
    },
    {
      "cell_type": "markdown",
      "source": [
        "Predicting values using the model!"
      ],
      "metadata": {
        "id": "QF3ZSi1HKHea"
      }
    },
    {
      "cell_type": "code",
      "source": [
        "model = [best_slope_modified, best_intercept]\n",
        "def predict(model, value):\n",
        "  # y = mx + b\n",
        "  return round(model[0] * value + model[1], 2)\n",
        "\n",
        "value = 150\n",
        "prediction = predict(model, value)\n",
        "print(f\"The prediction for the value x = 280 is: {prediction}... using the following model: {model}\")\n",
        "print(f\"The prediction for the value x = 280 is: {round(0.4*value + 80, 2)}... using the 'eyeballed' model: {[0.4, 80]}\")"
      ],
      "metadata": {
        "colab": {
          "base_uri": "https://localhost:8080/"
        },
        "id": "zBebht5PKHG1",
        "outputId": "013e752e-5f86-462b-ac6d-30b1fc4512d1"
      },
      "execution_count": null,
      "outputs": [
        {
          "output_type": "stream",
          "name": "stdout",
          "text": [
            "The prediction for the value x = 280 is: 140.62... using the following model: [0.3125, 93.75]\n",
            "The prediction for the value x = 280 is: 140.0... using the 'eyeballed' model: [0.4, 80]\n"
          ]
        }
      ]
    }
  ]
}